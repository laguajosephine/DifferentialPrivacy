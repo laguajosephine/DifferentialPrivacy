{
 "cells": [
  {
   "cell_type": "code",
   "execution_count": 1,
   "metadata": {
    "collapsed": true,
    "execution": {
     "iopub.execute_input": "2025-03-10T15:41:56.702563Z",
     "iopub.status.busy": "2025-03-10T15:41:56.702278Z",
     "iopub.status.idle": "2025-03-10T15:42:02.152874Z",
     "shell.execute_reply": "2025-03-10T15:42:02.151789Z",
     "shell.execute_reply.started": "2025-03-10T15:41:56.702534Z"
    },
    "jupyter": {
     "outputs_hidden": true
    },
    "trusted": true
   },
   "outputs": [
    {
     "name": "stdout",
     "output_type": "stream",
     "text": [
      "Collecting opacus\n",
      "  Downloading opacus-1.5.3-py3-none-any.whl.metadata (8.4 kB)\n",
      "Requirement already satisfied: numpy<2.0,>=1.15 in /usr/local/lib/python3.10/dist-packages (from opacus) (1.26.4)\n",
      "Requirement already satisfied: torch>=2.0 in /usr/local/lib/python3.10/dist-packages (from opacus) (2.5.1+cu121)\n",
      "Requirement already satisfied: scipy>=1.2 in /usr/local/lib/python3.10/dist-packages (from opacus) (1.13.1)\n",
      "Requirement already satisfied: opt-einsum>=3.3.0 in /usr/local/lib/python3.10/dist-packages (from opacus) (3.4.0)\n",
      "Requirement already satisfied: mkl_fft in /usr/local/lib/python3.10/dist-packages (from numpy<2.0,>=1.15->opacus) (1.3.8)\n",
      "Requirement already satisfied: mkl_random in /usr/local/lib/python3.10/dist-packages (from numpy<2.0,>=1.15->opacus) (1.2.4)\n",
      "Requirement already satisfied: mkl_umath in /usr/local/lib/python3.10/dist-packages (from numpy<2.0,>=1.15->opacus) (0.1.1)\n",
      "Requirement already satisfied: mkl in /usr/local/lib/python3.10/dist-packages (from numpy<2.0,>=1.15->opacus) (2025.0.1)\n",
      "Requirement already satisfied: tbb4py in /usr/local/lib/python3.10/dist-packages (from numpy<2.0,>=1.15->opacus) (2022.0.0)\n",
      "Requirement already satisfied: mkl-service in /usr/local/lib/python3.10/dist-packages (from numpy<2.0,>=1.15->opacus) (2.4.1)\n",
      "Requirement already satisfied: filelock in /usr/local/lib/python3.10/dist-packages (from torch>=2.0->opacus) (3.17.0)\n",
      "Requirement already satisfied: typing-extensions>=4.8.0 in /usr/local/lib/python3.10/dist-packages (from torch>=2.0->opacus) (4.12.2)\n",
      "Requirement already satisfied: networkx in /usr/local/lib/python3.10/dist-packages (from torch>=2.0->opacus) (3.4.2)\n",
      "Requirement already satisfied: jinja2 in /usr/local/lib/python3.10/dist-packages (from torch>=2.0->opacus) (3.1.4)\n",
      "Requirement already satisfied: fsspec in /usr/local/lib/python3.10/dist-packages (from torch>=2.0->opacus) (2024.12.0)\n",
      "Requirement already satisfied: sympy==1.13.1 in /usr/local/lib/python3.10/dist-packages (from torch>=2.0->opacus) (1.13.1)\n",
      "Requirement already satisfied: mpmath<1.4,>=1.1.0 in /usr/local/lib/python3.10/dist-packages (from sympy==1.13.1->torch>=2.0->opacus) (1.3.0)\n",
      "Requirement already satisfied: MarkupSafe>=2.0 in /usr/local/lib/python3.10/dist-packages (from jinja2->torch>=2.0->opacus) (3.0.2)\n",
      "Requirement already satisfied: intel-openmp>=2024 in /usr/local/lib/python3.10/dist-packages (from mkl->numpy<2.0,>=1.15->opacus) (2024.2.0)\n",
      "Requirement already satisfied: tbb==2022.* in /usr/local/lib/python3.10/dist-packages (from mkl->numpy<2.0,>=1.15->opacus) (2022.0.0)\n",
      "Requirement already satisfied: tcmlib==1.* in /usr/local/lib/python3.10/dist-packages (from tbb==2022.*->mkl->numpy<2.0,>=1.15->opacus) (1.2.0)\n",
      "Requirement already satisfied: intel-cmplr-lib-rt in /usr/local/lib/python3.10/dist-packages (from mkl_umath->numpy<2.0,>=1.15->opacus) (2024.2.0)\n",
      "Requirement already satisfied: intel-cmplr-lib-ur==2024.2.0 in /usr/local/lib/python3.10/dist-packages (from intel-openmp>=2024->mkl->numpy<2.0,>=1.15->opacus) (2024.2.0)\n",
      "Downloading opacus-1.5.3-py3-none-any.whl (251 kB)\n",
      "\u001b[2K   \u001b[90m━━━━━━━━━━━━━━━━━━━━━━━━━━━━━━━━━━━━━━━━\u001b[0m \u001b[32m251.7/251.7 kB\u001b[0m \u001b[31m5.7 MB/s\u001b[0m eta \u001b[36m0:00:00\u001b[0m00:01\u001b[0m\n",
      "\u001b[?25hInstalling collected packages: opacus\n",
      "Successfully installed opacus-1.5.3\n"
     ]
    }
   ],
   "source": [
    "!pip install opacus"
   ]
  },
  {
   "cell_type": "code",
   "execution_count": null,
   "metadata": {
    "execution": {
     "iopub.execute_input": "2025-03-10T15:42:11.684035Z",
     "iopub.status.busy": "2025-03-10T15:42:11.683730Z",
     "iopub.status.idle": "2025-03-10T15:42:18.207887Z",
     "shell.execute_reply": "2025-03-10T15:42:18.207206Z",
     "shell.execute_reply.started": "2025-03-10T15:42:11.684009Z"
    },
    "trusted": true
   },
   "outputs": [],
   "source": [
    "import torch\n",
    "import torch.nn as nn\n",
    "import torch.optim as optim\n",
    "import torchvision\n",
    "import torchvision.transforms as transforms\n",
    "import numpy as np\n",
    "import matplotlib.pyplot as plt\n",
    "from torch.utils.data import DataLoader, Subset\n",
    "from opacus import PrivacyEngine\n",
    "from torchvision.models import inception_v3, Inception_V3_Weights"
   ]
  },
  {
   "cell_type": "code",
   "execution_count": 3,
   "metadata": {
    "collapsed": true,
    "execution": {
     "iopub.execute_input": "2025-03-10T15:42:21.115374Z",
     "iopub.status.busy": "2025-03-10T15:42:21.114945Z",
     "iopub.status.idle": "2025-03-10T15:42:28.532203Z",
     "shell.execute_reply": "2025-03-10T15:42:28.531552Z",
     "shell.execute_reply.started": "2025-03-10T15:42:21.115345Z"
    },
    "jupyter": {
     "outputs_hidden": true
    },
    "trusted": true
   },
   "outputs": [
    {
     "name": "stdout",
     "output_type": "stream",
     "text": [
      "Downloading https://www.cs.toronto.edu/~kriz/cifar-10-python.tar.gz to ./data/cifar-10-python.tar.gz\n"
     ]
    },
    {
     "name": "stderr",
     "output_type": "stream",
     "text": [
      "100%|██████████| 170M/170M [00:02<00:00, 65.7MB/s] \n"
     ]
    },
    {
     "name": "stdout",
     "output_type": "stream",
     "text": [
      "Extracting ./data/cifar-10-python.tar.gz to ./data\n",
      "Files already downloaded and verified\n"
     ]
    },
    {
     "name": "stderr",
     "output_type": "stream",
     "text": [
      "/usr/local/lib/python3.10/dist-packages/torchvision/models/inception.py:43: FutureWarning: The default weight initialization of inception_v3 will be changed in future releases of torchvision. If you wish to keep the old behavior (which leads to long initialization times due to scipy/scipy#11299), please set init_weights=True.\n",
      "  warnings.warn(\n",
      "Downloading: \"https://download.pytorch.org/models/inception_v3_google-0cc3c7bd.pth\" to /root/.cache/torch/hub/checkpoints/inception_v3_google-0cc3c7bd.pth\n",
      "100%|██████████| 104M/104M [00:00<00:00, 228MB/s]  \n"
     ]
    }
   ],
   "source": [
    "# Définir le device\n",
    "device = torch.device(\"cuda\" if torch.cuda.is_available() else \"cpu\")\n",
    "\n",
    "# Préparation des données CIFAR-10 avec redimensionnement adapté pour InceptionV3 (299x299)\n",
    "transform = transforms.Compose([\n",
    "    transforms.Resize((299, 299)),\n",
    "    transforms.ToTensor(),\n",
    "    transforms.Normalize((0.5, 0.5, 0.5), (0.5, 0.5, 0.5))\n",
    "])\n",
    "trainset = torchvision.datasets.CIFAR10(root='./data', train=True, download=True, transform=transform)\n",
    "testset  = torchvision.datasets.CIFAR10(root='./data', train=False, download=True, transform=transform)\n",
    "\n",
    "# Création d'un déséquilibre de classes\n",
    "class_sizes = {0: 5000, 1: 4500, 2: 4000, 3: 3000, 4: 2000, 5: 1000, 6: 800, 7: 700, 8: 600, 9: 500}\n",
    "class_indices = {i: np.where(np.array(trainset.targets) == i)[0] for i in range(10)}\n",
    "imbalanced_indices = np.concatenate([np.random.choice(class_indices[i], size, replace=False)\n",
    "                                     for i, size in class_sizes.items()])\n",
    "train_subset = Subset(trainset, imbalanced_indices)\n",
    "\n",
    "# Vous pouvez augmenter la taille du batch pour améliorer la stabilité (surtout pour DP)\n",
    "batch_size = 32\n",
    "train_loader = DataLoader(train_subset, batch_size=batch_size, shuffle=True)\n",
    "test_loader  = DataLoader(testset, batch_size=batch_size, shuffle=False)\n",
    "\n",
    "# --- Création du modèle non-DP ---\n",
    "# Important : désactiver l'auxiliary classifier pour InceptionV3\n",
    "# Charger le modèle avec les poids pré-entraînés et désactiver aux_logits\n",
    "model = inception_v3(weights=None, aux_logits=False)\n",
    "\n",
    "# Charger manuellement les poids pré-entraînés\n",
    "weights = Inception_V3_Weights.DEFAULT\n",
    "state_dict = weights.get_state_dict(progress=True)\n",
    "model.load_state_dict(state_dict, strict=False)  # Ne pas forcer les clés strictement\n",
    "\n",
    "# Modifier la dernière couche pour adapter CIFAR-10 (10 classes)\n",
    "model.fc = nn.Linear(2048, 10)\n",
    "\n",
    "# Envoyer le modèle sur le bon device (GPU/CPU)\n",
    "model = model.to(device)\n",
    "\n",
    "criterion = nn.CrossEntropyLoss()\n",
    "optimizer = optim.Adam(model.parameters(), lr=0.001)\n",
    "\n",
    "# Fonction d'entraînement générique\n",
    "def train_model(model, loader, criterion, optimizer):\n",
    "    model.train()\n",
    "    running_loss = 0.0\n",
    "    for images, labels in loader:\n",
    "        images = images.to(device)\n",
    "        labels = labels.to(device)\n",
    "        \n",
    "        optimizer.zero_grad()\n",
    "        outputs = model(images)  # Retourne directement un tenseur car aux_logits=False\n",
    "        loss = criterion(outputs, labels)\n",
    "        loss.backward()\n",
    "        optimizer.step()\n",
    "        \n",
    "        running_loss += loss.item()\n",
    "    return running_loss / len(loader)\n",
    "\n",
    "# Fonction d'évaluation\n",
    "def evaluate(model, loader):\n",
    "    model.eval()\n",
    "    correct, total = 0, 0\n",
    "    with torch.no_grad():\n",
    "        for images, labels in loader:\n",
    "            images = images.to(device)\n",
    "            labels = labels.to(device)\n",
    "            outputs = model(images)\n",
    "            _, predicted = torch.max(outputs, 1)\n",
    "            total += labels.size(0)\n",
    "            correct += (predicted == labels).sum().item()\n",
    "    return correct / total\n",
    "\n",
    "# Évaluation par classe\n",
    "def evaluate_per_class(model, loader):\n",
    "    model.eval()\n",
    "    correct = torch.zeros(10)\n",
    "    total = torch.zeros(10)\n",
    "    with torch.no_grad():\n",
    "        for images, labels in loader:\n",
    "            images = images.to(device)\n",
    "            labels = labels.to(device)\n",
    "            outputs = model(images)\n",
    "            _, predicted = torch.max(outputs, 1)\n",
    "            for i in range(len(labels)):\n",
    "                total[labels[i]] += 1\n",
    "                if predicted[i] == labels[i]:\n",
    "                    correct[labels[i]] += 1\n",
    "    return (correct / total * 100).cpu().numpy()"
   ]
  },
  {
   "cell_type": "markdown",
   "metadata": {},
   "source": [
    "# Non-DP model"
   ]
  },
  {
   "cell_type": "code",
   "execution_count": null,
   "metadata": {
    "trusted": true
   },
   "outputs": [],
   "source": [
    "# --- Entraînement du modèle non-DP ---\n",
    "num_epochs = 15\n",
    "print(\"Entraînement du modèle non-DP\")\n",
    "for epoch in range(num_epochs):\n",
    "    loss = train_model(model, train_loader, criterion, optimizer)\n",
    "    acc = evaluate(model, test_loader)\n",
    "    acc_per_class = evaluate_per_class(model, test_loader)\n",
    "    print(f\"Epoch [{epoch+1}/{num_epochs}] - Loss: {loss:.4f} - Global Accuracy: {acc*100:.2f}%\")\n",
    "    for i, class_acc in enumerate(acc_per_class):\n",
    "        print(f\"  Classe {i}: {class_acc:.2f}%\")"
   ]
  },
  {
   "cell_type": "markdown",
   "metadata": {},
   "source": [
    "# DP- model"
   ]
  },
  {
   "cell_type": "code",
   "execution_count": 4,
   "metadata": {
    "collapsed": true,
    "execution": {
     "iopub.execute_input": "2025-03-10T15:42:36.140289Z",
     "iopub.status.busy": "2025-03-10T15:42:36.140003Z",
     "iopub.status.idle": "2025-03-10T15:57:08.498172Z",
     "shell.execute_reply": "2025-03-10T15:57:08.497023Z",
     "shell.execute_reply.started": "2025-03-10T15:42:36.140267Z"
    },
    "jupyter": {
     "outputs_hidden": true
    },
    "trusted": true
   },
   "outputs": [
    {
     "name": "stderr",
     "output_type": "stream",
     "text": [
      "/usr/local/lib/python3.10/dist-packages/opacus/privacy_engine.py:96: UserWarning: Secure RNG turned off. This is perfectly fine for experimentation as it allows for much faster training performance, but remember to turn it on and retrain one last time before production with ``secure_mode`` turned on.\n",
      "  warnings.warn(\n"
     ]
    },
    {
     "name": "stdout",
     "output_type": "stream",
     "text": [
      "\n",
      "Entraînement du modèle DP\n"
     ]
    },
    {
     "name": "stderr",
     "output_type": "stream",
     "text": [
      "/usr/local/lib/python3.10/dist-packages/torch/nn/modules/module.py:1827: FutureWarning: Using a non-full backward hook when the forward contains multiple autograd Nodes is deprecated and will be removed in future versions. This hook will be missing some grad_input. Please use register_full_backward_hook to get the documented behavior.\n",
      "  self._maybe_warn_non_full_backward_hook(args, result, grad_fn)\n"
     ]
    },
    {
     "name": "stdout",
     "output_type": "stream",
     "text": [
      "Epoch [1/10] - Loss: 2.1039 - DP Accuracy: 9.98%\n",
      "(ε = 2.46, δ = 1e-6)\n",
      "  Classe 0: 99.70%\n",
      "  Classe 1: 0.10%\n",
      "  Classe 2: 0.00%\n",
      "  Classe 3: 0.00%\n",
      "  Classe 4: 0.00%\n",
      "  Classe 5: 0.00%\n",
      "  Classe 6: 0.00%\n",
      "  Classe 7: 0.00%\n",
      "  Classe 8: 0.00%\n",
      "  Classe 9: 0.00%\n"
     ]
    },
    {
     "ename": "KeyboardInterrupt",
     "evalue": "",
     "output_type": "error",
     "traceback": [
      "\u001b[0;31m---------------------------------------------------------------------------\u001b[0m",
      "\u001b[0;31mKeyboardInterrupt\u001b[0m                         Traceback (most recent call last)",
      "\u001b[0;32m<ipython-input-4-002159073193>\u001b[0m in \u001b[0;36m<cell line: 42>\u001b[0;34m()\u001b[0m\n\u001b[1;32m     51\u001b[0m         \u001b[0mloss\u001b[0m \u001b[0;34m=\u001b[0m \u001b[0mcriterion_dp\u001b[0m\u001b[0;34m(\u001b[0m\u001b[0moutputs\u001b[0m\u001b[0;34m,\u001b[0m \u001b[0mlabels\u001b[0m\u001b[0;34m)\u001b[0m\u001b[0;34m\u001b[0m\u001b[0;34m\u001b[0m\u001b[0m\n\u001b[1;32m     52\u001b[0m         \u001b[0mloss\u001b[0m\u001b[0;34m.\u001b[0m\u001b[0mbackward\u001b[0m\u001b[0;34m(\u001b[0m\u001b[0;34m)\u001b[0m\u001b[0;34m\u001b[0m\u001b[0;34m\u001b[0m\u001b[0m\n\u001b[0;32m---> 53\u001b[0;31m         \u001b[0moptimizer_dp\u001b[0m\u001b[0;34m.\u001b[0m\u001b[0mstep\u001b[0m\u001b[0;34m(\u001b[0m\u001b[0;34m)\u001b[0m\u001b[0;34m\u001b[0m\u001b[0;34m\u001b[0m\u001b[0m\n\u001b[0m\u001b[1;32m     54\u001b[0m \u001b[0;34m\u001b[0m\u001b[0m\n\u001b[1;32m     55\u001b[0m         \u001b[0mrunning_loss\u001b[0m \u001b[0;34m+=\u001b[0m \u001b[0mloss\u001b[0m\u001b[0;34m.\u001b[0m\u001b[0mitem\u001b[0m\u001b[0;34m(\u001b[0m\u001b[0;34m)\u001b[0m\u001b[0;34m\u001b[0m\u001b[0;34m\u001b[0m\u001b[0m\n",
      "\u001b[0;32m/usr/local/lib/python3.10/dist-packages/opacus/optimizers/optimizer.py\u001b[0m in \u001b[0;36mstep\u001b[0;34m(self, closure)\u001b[0m\n\u001b[1;32m    552\u001b[0m             \u001b[0;32mwith\u001b[0m \u001b[0mtorch\u001b[0m\u001b[0;34m.\u001b[0m\u001b[0menable_grad\u001b[0m\u001b[0;34m(\u001b[0m\u001b[0;34m)\u001b[0m\u001b[0;34m:\u001b[0m\u001b[0;34m\u001b[0m\u001b[0;34m\u001b[0m\u001b[0m\n\u001b[1;32m    553\u001b[0m                 \u001b[0mclosure\u001b[0m\u001b[0;34m(\u001b[0m\u001b[0;34m)\u001b[0m\u001b[0;34m\u001b[0m\u001b[0;34m\u001b[0m\u001b[0m\n\u001b[0;32m--> 554\u001b[0;31m         \u001b[0;32mif\u001b[0m \u001b[0mself\u001b[0m\u001b[0;34m.\u001b[0m\u001b[0mpre_step\u001b[0m\u001b[0;34m(\u001b[0m\u001b[0;34m)\u001b[0m\u001b[0;34m:\u001b[0m\u001b[0;34m\u001b[0m\u001b[0;34m\u001b[0m\u001b[0m\n\u001b[0m\u001b[1;32m    555\u001b[0m             \u001b[0;32mreturn\u001b[0m \u001b[0mself\u001b[0m\u001b[0;34m.\u001b[0m\u001b[0moriginal_optimizer\u001b[0m\u001b[0;34m.\u001b[0m\u001b[0mstep\u001b[0m\u001b[0;34m(\u001b[0m\u001b[0;34m)\u001b[0m\u001b[0;34m\u001b[0m\u001b[0;34m\u001b[0m\u001b[0m\n\u001b[1;32m    556\u001b[0m         \u001b[0;32melse\u001b[0m\u001b[0;34m:\u001b[0m\u001b[0;34m\u001b[0m\u001b[0;34m\u001b[0m\u001b[0m\n",
      "\u001b[0;32m/usr/local/lib/python3.10/dist-packages/opacus/optimizers/optimizer.py\u001b[0m in \u001b[0;36mpre_step\u001b[0;34m(self, closure)\u001b[0m\n\u001b[1;32m    541\u001b[0m             \u001b[0mself\u001b[0m\u001b[0;34m.\u001b[0m\u001b[0m_is_last_step_skipped\u001b[0m \u001b[0;34m=\u001b[0m \u001b[0;32mTrue\u001b[0m\u001b[0;34m\u001b[0m\u001b[0;34m\u001b[0m\u001b[0m\n\u001b[1;32m    542\u001b[0m             \u001b[0;32mreturn\u001b[0m \u001b[0;32mFalse\u001b[0m\u001b[0;34m\u001b[0m\u001b[0;34m\u001b[0m\u001b[0m\n\u001b[0;32m--> 543\u001b[0;31m         \u001b[0mself\u001b[0m\u001b[0;34m.\u001b[0m\u001b[0madd_noise\u001b[0m\u001b[0;34m(\u001b[0m\u001b[0;34m)\u001b[0m\u001b[0;34m\u001b[0m\u001b[0;34m\u001b[0m\u001b[0m\n\u001b[0m\u001b[1;32m    544\u001b[0m         \u001b[0mself\u001b[0m\u001b[0;34m.\u001b[0m\u001b[0mscale_grad\u001b[0m\u001b[0;34m(\u001b[0m\u001b[0;34m)\u001b[0m\u001b[0;34m\u001b[0m\u001b[0;34m\u001b[0m\u001b[0m\n\u001b[1;32m    545\u001b[0m         \u001b[0;32mif\u001b[0m \u001b[0mself\u001b[0m\u001b[0;34m.\u001b[0m\u001b[0mstep_hook\u001b[0m\u001b[0;34m:\u001b[0m\u001b[0;34m\u001b[0m\u001b[0;34m\u001b[0m\u001b[0m\n",
      "\u001b[0;32m/usr/local/lib/python3.10/dist-packages/opacus/optimizers/optimizer.py\u001b[0m in \u001b[0;36madd_noise\u001b[0;34m(self)\u001b[0m\n\u001b[1;32m    468\u001b[0m             \u001b[0m_check_processed_flag\u001b[0m\u001b[0;34m(\u001b[0m\u001b[0mp\u001b[0m\u001b[0;34m.\u001b[0m\u001b[0msummed_grad\u001b[0m\u001b[0;34m)\u001b[0m\u001b[0;34m\u001b[0m\u001b[0;34m\u001b[0m\u001b[0m\n\u001b[1;32m    469\u001b[0m \u001b[0;34m\u001b[0m\u001b[0m\n\u001b[0;32m--> 470\u001b[0;31m             noise = _generate_noise(\n\u001b[0m\u001b[1;32m    471\u001b[0m                 \u001b[0mstd\u001b[0m\u001b[0;34m=\u001b[0m\u001b[0mself\u001b[0m\u001b[0;34m.\u001b[0m\u001b[0mnoise_multiplier\u001b[0m \u001b[0;34m*\u001b[0m \u001b[0mself\u001b[0m\u001b[0;34m.\u001b[0m\u001b[0mmax_grad_norm\u001b[0m\u001b[0;34m,\u001b[0m\u001b[0;34m\u001b[0m\u001b[0;34m\u001b[0m\u001b[0m\n\u001b[1;32m    472\u001b[0m                 \u001b[0mreference\u001b[0m\u001b[0;34m=\u001b[0m\u001b[0mp\u001b[0m\u001b[0;34m.\u001b[0m\u001b[0msummed_grad\u001b[0m\u001b[0;34m,\u001b[0m\u001b[0;34m\u001b[0m\u001b[0;34m\u001b[0m\u001b[0m\n",
      "\u001b[0;32m/usr/local/lib/python3.10/dist-packages/opacus/optimizers/optimizer.py\u001b[0m in \u001b[0;36m_generate_noise\u001b[0;34m(std, reference, generator, secure_mode)\u001b[0m\n\u001b[1;32m    135\u001b[0m         \u001b[0menough\u001b[0m \u001b[0;32mfor\u001b[0m \u001b[0man\u001b[0m \u001b[0mattacker\u001b[0m \u001b[0mto\u001b[0m \u001b[0;32mbreak\u001b[0m\u001b[0;34m.\u001b[0m\u001b[0;34m\u001b[0m\u001b[0;34m\u001b[0m\u001b[0m\n\u001b[1;32m    136\u001b[0m     \"\"\"\n\u001b[0;32m--> 137\u001b[0;31m     \u001b[0mzeros\u001b[0m \u001b[0;34m=\u001b[0m \u001b[0mtorch\u001b[0m\u001b[0;34m.\u001b[0m\u001b[0mzeros\u001b[0m\u001b[0;34m(\u001b[0m\u001b[0mreference\u001b[0m\u001b[0;34m.\u001b[0m\u001b[0mshape\u001b[0m\u001b[0;34m,\u001b[0m \u001b[0mdevice\u001b[0m\u001b[0;34m=\u001b[0m\u001b[0mreference\u001b[0m\u001b[0;34m.\u001b[0m\u001b[0mdevice\u001b[0m\u001b[0;34m)\u001b[0m\u001b[0;34m\u001b[0m\u001b[0;34m\u001b[0m\u001b[0m\n\u001b[0m\u001b[1;32m    138\u001b[0m     \u001b[0;32mif\u001b[0m \u001b[0mstd\u001b[0m \u001b[0;34m==\u001b[0m \u001b[0;36m0\u001b[0m\u001b[0;34m:\u001b[0m\u001b[0;34m\u001b[0m\u001b[0;34m\u001b[0m\u001b[0m\n\u001b[1;32m    139\u001b[0m         \u001b[0;32mreturn\u001b[0m \u001b[0mzeros\u001b[0m\u001b[0;34m\u001b[0m\u001b[0;34m\u001b[0m\u001b[0m\n",
      "\u001b[0;31mKeyboardInterrupt\u001b[0m: "
     ]
    }
   ],
   "source": [
    "# --- Passage en mode DP ---\n",
    "num_epochs = 15\n",
    "\n",
    "# Libérer la mémoire GPU si nécessaire\n",
    "torch.cuda.empty_cache()\n",
    "\n",
    "# Fonction pour \"geler\" les BatchNorm (utile pour l'entraînement DP)\n",
    "def freeze_batchnorm(model):\n",
    "    for module in model.modules():\n",
    "        if isinstance(module, nn.BatchNorm2d):\n",
    "            module.track_running_stats = False\n",
    "            module.weight.requires_grad = False\n",
    "            module.bias.requires_grad = False\n",
    "            # On peut aussi choisir de remplacer BatchNorm par GroupNorm dans une version plus aboutie\n",
    "\n",
    "# Création du modèle DP (idem, désactivation de aux_logits)\n",
    "model_dp = inception_v3(weights=None, aux_logits=False)\n",
    "weights = Inception_V3_Weights.DEFAULT\n",
    "state_dict = weights.get_state_dict(progress=True)\n",
    "model_dp.load_state_dict(state_dict, strict=False)  # Ne pas forcer les clés strictement\n",
    "model_dp.fc = nn.Linear(2048, 10)\n",
    "freeze_batchnorm(model_dp)  # Appliquer avant de passer sur le device\n",
    "model_dp = model_dp.to(device)\n",
    "\n",
    "optimizer_dp = optim.Adam(model_dp.parameters(), lr=0.001)\n",
    "criterion_dp = nn.CrossEntropyLoss()\n",
    "\n",
    "# Création du PrivacyEngine avec des paramètres adaptés\n",
    "# Pour se rapprocher des réglages du papier, on peut essayer noise_multiplier=0.6 et max_grad_norm=1.0\n",
    "privacy_engine = PrivacyEngine()\n",
    "\n",
    "model_dp, optimizer_dp, train_loader_dp = privacy_engine.make_private(\n",
    "    module=model_dp,\n",
    "    optimizer=optimizer_dp,\n",
    "    data_loader=train_loader,  # Vous pouvez utiliser le même loader ou en recréer un si nécessaire\n",
    "    noise_multiplier=0.4,       # Ajusté pour avoir un ε raisonnable (< 10)\n",
    "    max_grad_norm=1.2,\n",
    ")\n",
    "\n",
    "# Boucle d'entraînement DP\n",
    "print(\"\\nEntraînement du modèle DP\")\n",
    "for epoch in range(num_epochs):\n",
    "    model_dp.train()\n",
    "    running_loss = 0.0\n",
    "    for images, labels in train_loader_dp:\n",
    "        images = images.to(device)\n",
    "        labels = labels.to(device)\n",
    "        \n",
    "        optimizer_dp.zero_grad()\n",
    "        outputs = model_dp(images)\n",
    "        loss = criterion_dp(outputs, labels)\n",
    "        loss.backward()\n",
    "        optimizer_dp.step()\n",
    "        \n",
    "        running_loss += loss.item()\n",
    "    \n",
    "    avg_loss = running_loss / len(train_loader_dp)\n",
    "    dp_acc = evaluate(model_dp, test_loader)\n",
    "    dp_acc_per_class = evaluate_per_class(model_dp, test_loader)\n",
    "    \n",
    "    # Affichage de la perte, de l'exactitude et du coût de confidentialité\n",
    "    epsilon = privacy_engine.get_epsilon(delta=1e-6)\n",
    "    print(f\"Epoch [{epoch+1}/{num_epochs}] - Loss: {avg_loss:.4f} - DP Accuracy: {dp_acc*100:.2f}%\")\n",
    "    print(f\"(ε = {epsilon:.2f}, δ = 1e-6)\")\n",
    "    for i, class_acc in enumerate(dp_acc_per_class):\n",
    "        print(f\"  Classe {i}: {class_acc:.2f}%\")"
   ]
  },
  {
   "cell_type": "code",
   "execution_count": 3,
   "metadata": {},
   "outputs": [
    {
     "data": {
      "image/png": "[encoded data removed]",
      "text/plain": [
       "<Figure size 1000x500 with 2 Axes>"
      ]
     },
     "metadata": {},
     "output_type": "display_data"
    }
   ],
   "source": [
    "class_sizes = {\n",
    "    \"airplane\": 5000, \"automobile\": 4500, \"bird\": 4000, \"cat\": 3000,\n",
    "    \"deer\": 2000, \"dog\": 1000, \"frog\": 800, \"horse\": 700, \"ship\": 600, \"truck\": 500\n",
    "}\n",
    "\n",
    "accuracy_non_dp = {\n",
    "    \"airplane\": [94.3, 91.1, 92.5, 92.2, 96.1, 93.1, 91.4, 94.7, 91.1, 95.5, 95.9, 92.3, 96.6, 91.0, 91.6],\n",
    "    \"automobile\": [85.2, 91.1, 94.8, 95.8, 94.8, 98.1, 97.3, 94.9, 98.0, 98.1, 98.9, 96.3, 95.6, 97.5, 97.2],\n",
    "    \"bird\": [69.5, 74.6, 70.7, 84.0, 87.7, 82.3, 83.3, 84.0, 84.0, 85.4, 83.9, 80.9, 88.1, 89.8, 90.0],\n",
    "    \"cat\": [82.7, 69.2, 90.4, 88.5, 77.7, 82.0, 88.4, 83.5, 92.6, 84.9, 79.8, 88.4, 80.8, 80.0, 90.3],\n",
    "    \"deer\": [55.1, 83.6, 88.1, 78.3, 87.2, 83.9, 88.2, 90.4, 91.5, 85.5, 92.8, 84.0, 89.7, 89.6, 81.7],\n",
    "    \"dog\": [8.2, 55.6, 46.0, 53.1, 35.6, 59.3, 44.5, 46.6, 53.1, 70.6, 74.2, 80.1, 74.2, 71.9, 58.8],\n",
    "    \"frog\": [44.3, 71.6, 53.1, 79.0, 80.8, 87.8, 89.3, 83.9, 57.7, 65.5, 89.3, 71.1, 79.2, 80.3, 76.4],\n",
    "    \"horse\": [56.6, 77.3, 73.2, 67.8, 77.5, 72.3, 76.7, 88.0, 70.2, 82.1, 81.2, 67.7, 84.9, 79.2, 83.3],\n",
    "    \"ship\": [28.7, 86.0, 42.2, 72.3, 78.0, 80.0, 72.7, 80.4, 71.8, 83.3, 77.3, 84.6, 78.7, 87.4, 75.7],\n",
    "    \"truck\": [88.0, 26.7, 59.0, 74.9, 85.5, 73.4, 73.5, 84.1, 82.6, 84.1, 75.0, 88.6, 82.4, 76.1, 79.1]\n",
    "}\n",
    "\n",
    "accuracy_dp = {\n",
    "    \"airplane\": [42.2, 0.1, 0.0, 0.2, 0.0, 0.0, 0.0, 0.0, 0.0, 0.0, 63.9, 0.0, 0.0, 9.1, 0.0],\n",
    "    \"automobile\": [67.7, 59.7, 0.0, 0.0, 0.0, 0.0, 0.0, 0.0, 0.0, 0.0, 0.0, 0.0, 0.0, 0.0, 0.0],\n",
    "    \"bird\": [0.0, 34.3, 0.0, 99.9, 100.0, 100.0, 100.0, 100.0, 100.0, 100.0, 28.4, 100.0, 100.0, 94.1, 100.0],\n",
    "    \"cat\": [0.0, 0.0, 100.0, 0.0, 0.0, 0.0, 0.0, 0.0, 0.0, 0.0, 0.0, 0.0, 0.0, 0.0, 0.0]\n",
    "}\n",
    "\n",
    "mean_accuracy_non_dp = {k: np.mean(v) for k, v in accuracy_non_dp.items()}\n",
    "mean_accuracy_dp = {k: np.mean(v) for k, v in accuracy_dp.items()}\n",
    "\n",
    "fig, ax1 = plt.subplots(figsize=(10, 5))\n",
    "ax2 = ax1.twinx()\n",
    "\n",
    "# Histogramme des tailles de classe\n",
    "ax1.bar(list(class_sizes.keys()), list(class_sizes.values()), alpha=0.3, label='Class Size', color='lightblue')\n",
    "\n",
    "# Lignes des accuracies\n",
    "ax2.plot(list(mean_accuracy_non_dp.keys()), list(mean_accuracy_non_dp.values()), 'r--', marker='^', label='Non-DP Accuracy')\n",
    "ax2.plot(list(mean_accuracy_dp.keys()), list(mean_accuracy_dp.values()), 'b--', marker='s', label='DP Accuracy')\n",
    "\n",
    "# Axes et légendes\n",
    "ax1.set_ylabel('Class Size')\n",
    "ax2.set_ylabel('Accuracy (%)')\n",
    "ax1.set_xlabel('Class Label')\n",
    "\n",
    "ax1.legend(loc='upper left')\n",
    "ax2.legend(loc='upper right')\n",
    "\n",
    "plt.title('Accuracy vs Class Label (CIFAR-10)')\n",
    "plt.xticks(rotation=45)\n",
    "plt.show()"
   ]
  }
 ],
 "metadata": {
  "kaggle": {
   "accelerator": "nvidiaTeslaT4",
   "dataSources": [],
   "dockerImageVersionId": 30919,
   "isGpuEnabled": true,
   "isInternetEnabled": true,
   "language": "python",
   "sourceType": "notebook"
  },
  "kernelspec": {
   "display_name": "Python 3",
   "language": "python",
   "name": "python3"
  },
  "language_info": {
   "codemirror_mode": {
    "name": "ipython",
    "version": 3
   },
   "file_extension": ".py",
   "mimetype": "text/x-python",
   "name": "python",
   "nbconvert_exporter": "python",
   "pygments_lexer": "ipython3",
   "version": "3.12.5"
  }
 },
 "nbformat": 4,
 "nbformat_minor": 4
}
